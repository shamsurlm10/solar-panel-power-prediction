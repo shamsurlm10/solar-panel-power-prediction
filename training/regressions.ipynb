{
 "cells": [
  {
   "cell_type": "code",
   "execution_count": 16,
   "id": "e592e0cd",
   "metadata": {},
   "outputs": [],
   "source": [
    "import pandas as pd\n",
    "from sklearn.linear_model import LinearRegression\n",
    "from sklearn.model_selection import train_test_split\n",
    "from sklearn.preprocessing import LabelEncoder"
   ]
  },
  {
   "cell_type": "code",
   "execution_count": 17,
   "id": "a924fcf6",
   "metadata": {},
   "outputs": [],
   "source": [
    "df = pd.read_csv(\"metadataclean1.csv\")"
   ]
  },
  {
   "cell_type": "code",
   "execution_count": 18,
   "id": "e6da6b6d",
   "metadata": {},
   "outputs": [
    {
     "data": {
      "text/html": [
       "<div>\n",
       "<style scoped>\n",
       "    .dataframe tbody tr th:only-of-type {\n",
       "        vertical-align: middle;\n",
       "    }\n",
       "\n",
       "    .dataframe tbody tr th {\n",
       "        vertical-align: top;\n",
       "    }\n",
       "\n",
       "    .dataframe thead th {\n",
       "        text-align: right;\n",
       "    }\n",
       "</style>\n",
       "<table border=\"1\" class=\"dataframe\">\n",
       "  <thead>\n",
       "    <tr style=\"text-align: right;\">\n",
       "      <th></th>\n",
       "      <th>Unnamed: 0</th>\n",
       "      <th>panel_name</th>\n",
       "      <th>image_name</th>\n",
       "      <th>lebel</th>\n",
       "      <th>time</th>\n",
       "      <th>LUX</th>\n",
       "      <th>TEMP (Celcius)</th>\n",
       "      <th>power</th>\n",
       "    </tr>\n",
       "  </thead>\n",
       "  <tbody>\n",
       "    <tr>\n",
       "      <th>0</th>\n",
       "      <td>0</td>\n",
       "      <td>d-1-3-1</td>\n",
       "      <td>d-1-3-1.jpg</td>\n",
       "      <td>d</td>\n",
       "      <td>1</td>\n",
       "      <td>1350</td>\n",
       "      <td>27.0</td>\n",
       "      <td>23.4639</td>\n",
       "    </tr>\n",
       "    <tr>\n",
       "      <th>1</th>\n",
       "      <td>1</td>\n",
       "      <td>d-1-3-2</td>\n",
       "      <td>d-1-3-2.jpg</td>\n",
       "      <td>d</td>\n",
       "      <td>1</td>\n",
       "      <td>1350</td>\n",
       "      <td>27.0</td>\n",
       "      <td>23.4639</td>\n",
       "    </tr>\n",
       "    <tr>\n",
       "      <th>2</th>\n",
       "      <td>2</td>\n",
       "      <td>d-1-3-3</td>\n",
       "      <td>d-1-3-3.jpg</td>\n",
       "      <td>d</td>\n",
       "      <td>1</td>\n",
       "      <td>1350</td>\n",
       "      <td>27.0</td>\n",
       "      <td>23.4639</td>\n",
       "    </tr>\n",
       "    <tr>\n",
       "      <th>3</th>\n",
       "      <td>3</td>\n",
       "      <td>d-1-3-4</td>\n",
       "      <td>d-1-3-4.jpg</td>\n",
       "      <td>d</td>\n",
       "      <td>1</td>\n",
       "      <td>1350</td>\n",
       "      <td>27.0</td>\n",
       "      <td>23.4639</td>\n",
       "    </tr>\n",
       "    <tr>\n",
       "      <th>4</th>\n",
       "      <td>4</td>\n",
       "      <td>d-1-4-1</td>\n",
       "      <td>d-1-4-1.jpg</td>\n",
       "      <td>d</td>\n",
       "      <td>1</td>\n",
       "      <td>1380</td>\n",
       "      <td>27.1</td>\n",
       "      <td>22.2275</td>\n",
       "    </tr>\n",
       "    <tr>\n",
       "      <th>5</th>\n",
       "      <td>5</td>\n",
       "      <td>d-1-4-2</td>\n",
       "      <td>d-1-4-2.jpg</td>\n",
       "      <td>d</td>\n",
       "      <td>1</td>\n",
       "      <td>1380</td>\n",
       "      <td>27.1</td>\n",
       "      <td>22.2275</td>\n",
       "    </tr>\n",
       "    <tr>\n",
       "      <th>6</th>\n",
       "      <td>6</td>\n",
       "      <td>d-1-4-3</td>\n",
       "      <td>d-1-4-3.jpg</td>\n",
       "      <td>d</td>\n",
       "      <td>1</td>\n",
       "      <td>1380</td>\n",
       "      <td>27.1</td>\n",
       "      <td>22.2275</td>\n",
       "    </tr>\n",
       "    <tr>\n",
       "      <th>7</th>\n",
       "      <td>7</td>\n",
       "      <td>d-1-4-4</td>\n",
       "      <td>d-1-4-4.jpg</td>\n",
       "      <td>d</td>\n",
       "      <td>1</td>\n",
       "      <td>1380</td>\n",
       "      <td>27.1</td>\n",
       "      <td>22.2275</td>\n",
       "    </tr>\n",
       "    <tr>\n",
       "      <th>8</th>\n",
       "      <td>8</td>\n",
       "      <td>d-1-5-1</td>\n",
       "      <td>d-1-5-1.jpg</td>\n",
       "      <td>d</td>\n",
       "      <td>1</td>\n",
       "      <td>1460</td>\n",
       "      <td>27.3</td>\n",
       "      <td>26.9468</td>\n",
       "    </tr>\n",
       "    <tr>\n",
       "      <th>9</th>\n",
       "      <td>9</td>\n",
       "      <td>d-1-5-2</td>\n",
       "      <td>d-1-5-2.jpg</td>\n",
       "      <td>d</td>\n",
       "      <td>1</td>\n",
       "      <td>1460</td>\n",
       "      <td>27.3</td>\n",
       "      <td>26.9468</td>\n",
       "    </tr>\n",
       "  </tbody>\n",
       "</table>\n",
       "</div>"
      ],
      "text/plain": [
       "   Unnamed: 0 panel_name   image_name lebel  time   LUX  TEMP (Celcius)  \\\n",
       "0           0    d-1-3-1  d-1-3-1.jpg     d     1  1350            27.0   \n",
       "1           1    d-1-3-2  d-1-3-2.jpg     d     1  1350            27.0   \n",
       "2           2    d-1-3-3  d-1-3-3.jpg     d     1  1350            27.0   \n",
       "3           3    d-1-3-4  d-1-3-4.jpg     d     1  1350            27.0   \n",
       "4           4    d-1-4-1  d-1-4-1.jpg     d     1  1380            27.1   \n",
       "5           5    d-1-4-2  d-1-4-2.jpg     d     1  1380            27.1   \n",
       "6           6    d-1-4-3  d-1-4-3.jpg     d     1  1380            27.1   \n",
       "7           7    d-1-4-4  d-1-4-4.jpg     d     1  1380            27.1   \n",
       "8           8    d-1-5-1  d-1-5-1.jpg     d     1  1460            27.3   \n",
       "9           9    d-1-5-2  d-1-5-2.jpg     d     1  1460            27.3   \n",
       "\n",
       "     power  \n",
       "0  23.4639  \n",
       "1  23.4639  \n",
       "2  23.4639  \n",
       "3  23.4639  \n",
       "4  22.2275  \n",
       "5  22.2275  \n",
       "6  22.2275  \n",
       "7  22.2275  \n",
       "8  26.9468  \n",
       "9  26.9468  "
      ]
     },
     "execution_count": 18,
     "metadata": {},
     "output_type": "execute_result"
    }
   ],
   "source": [
    "df.head(10)"
   ]
  },
  {
   "cell_type": "code",
   "execution_count": 19,
   "id": "893dfbda",
   "metadata": {},
   "outputs": [],
   "source": [
    "df.drop(['Unnamed: 0'], axis = 1, inplace = True) "
   ]
  },
  {
   "cell_type": "code",
   "execution_count": 20,
   "id": "622da763",
   "metadata": {},
   "outputs": [
    {
     "data": {
      "text/html": [
       "<div>\n",
       "<style scoped>\n",
       "    .dataframe tbody tr th:only-of-type {\n",
       "        vertical-align: middle;\n",
       "    }\n",
       "\n",
       "    .dataframe tbody tr th {\n",
       "        vertical-align: top;\n",
       "    }\n",
       "\n",
       "    .dataframe thead th {\n",
       "        text-align: right;\n",
       "    }\n",
       "</style>\n",
       "<table border=\"1\" class=\"dataframe\">\n",
       "  <thead>\n",
       "    <tr style=\"text-align: right;\">\n",
       "      <th></th>\n",
       "      <th>panel_name</th>\n",
       "      <th>image_name</th>\n",
       "      <th>lebel</th>\n",
       "      <th>time</th>\n",
       "      <th>LUX</th>\n",
       "      <th>TEMP (Celcius)</th>\n",
       "      <th>power</th>\n",
       "    </tr>\n",
       "  </thead>\n",
       "  <tbody>\n",
       "    <tr>\n",
       "      <th>0</th>\n",
       "      <td>d-1-3-1</td>\n",
       "      <td>d-1-3-1.jpg</td>\n",
       "      <td>d</td>\n",
       "      <td>1</td>\n",
       "      <td>1350</td>\n",
       "      <td>27.0</td>\n",
       "      <td>23.4639</td>\n",
       "    </tr>\n",
       "    <tr>\n",
       "      <th>1</th>\n",
       "      <td>d-1-3-2</td>\n",
       "      <td>d-1-3-2.jpg</td>\n",
       "      <td>d</td>\n",
       "      <td>1</td>\n",
       "      <td>1350</td>\n",
       "      <td>27.0</td>\n",
       "      <td>23.4639</td>\n",
       "    </tr>\n",
       "    <tr>\n",
       "      <th>2</th>\n",
       "      <td>d-1-3-3</td>\n",
       "      <td>d-1-3-3.jpg</td>\n",
       "      <td>d</td>\n",
       "      <td>1</td>\n",
       "      <td>1350</td>\n",
       "      <td>27.0</td>\n",
       "      <td>23.4639</td>\n",
       "    </tr>\n",
       "    <tr>\n",
       "      <th>3</th>\n",
       "      <td>d-1-3-4</td>\n",
       "      <td>d-1-3-4.jpg</td>\n",
       "      <td>d</td>\n",
       "      <td>1</td>\n",
       "      <td>1350</td>\n",
       "      <td>27.0</td>\n",
       "      <td>23.4639</td>\n",
       "    </tr>\n",
       "    <tr>\n",
       "      <th>4</th>\n",
       "      <td>d-1-4-1</td>\n",
       "      <td>d-1-4-1.jpg</td>\n",
       "      <td>d</td>\n",
       "      <td>1</td>\n",
       "      <td>1380</td>\n",
       "      <td>27.1</td>\n",
       "      <td>22.2275</td>\n",
       "    </tr>\n",
       "    <tr>\n",
       "      <th>5</th>\n",
       "      <td>d-1-4-2</td>\n",
       "      <td>d-1-4-2.jpg</td>\n",
       "      <td>d</td>\n",
       "      <td>1</td>\n",
       "      <td>1380</td>\n",
       "      <td>27.1</td>\n",
       "      <td>22.2275</td>\n",
       "    </tr>\n",
       "    <tr>\n",
       "      <th>6</th>\n",
       "      <td>d-1-4-3</td>\n",
       "      <td>d-1-4-3.jpg</td>\n",
       "      <td>d</td>\n",
       "      <td>1</td>\n",
       "      <td>1380</td>\n",
       "      <td>27.1</td>\n",
       "      <td>22.2275</td>\n",
       "    </tr>\n",
       "    <tr>\n",
       "      <th>7</th>\n",
       "      <td>d-1-4-4</td>\n",
       "      <td>d-1-4-4.jpg</td>\n",
       "      <td>d</td>\n",
       "      <td>1</td>\n",
       "      <td>1380</td>\n",
       "      <td>27.1</td>\n",
       "      <td>22.2275</td>\n",
       "    </tr>\n",
       "    <tr>\n",
       "      <th>8</th>\n",
       "      <td>d-1-5-1</td>\n",
       "      <td>d-1-5-1.jpg</td>\n",
       "      <td>d</td>\n",
       "      <td>1</td>\n",
       "      <td>1460</td>\n",
       "      <td>27.3</td>\n",
       "      <td>26.9468</td>\n",
       "    </tr>\n",
       "    <tr>\n",
       "      <th>9</th>\n",
       "      <td>d-1-5-2</td>\n",
       "      <td>d-1-5-2.jpg</td>\n",
       "      <td>d</td>\n",
       "      <td>1</td>\n",
       "      <td>1460</td>\n",
       "      <td>27.3</td>\n",
       "      <td>26.9468</td>\n",
       "    </tr>\n",
       "  </tbody>\n",
       "</table>\n",
       "</div>"
      ],
      "text/plain": [
       "  panel_name   image_name lebel  time   LUX  TEMP (Celcius)    power\n",
       "0    d-1-3-1  d-1-3-1.jpg     d     1  1350            27.0  23.4639\n",
       "1    d-1-3-2  d-1-3-2.jpg     d     1  1350            27.0  23.4639\n",
       "2    d-1-3-3  d-1-3-3.jpg     d     1  1350            27.0  23.4639\n",
       "3    d-1-3-4  d-1-3-4.jpg     d     1  1350            27.0  23.4639\n",
       "4    d-1-4-1  d-1-4-1.jpg     d     1  1380            27.1  22.2275\n",
       "5    d-1-4-2  d-1-4-2.jpg     d     1  1380            27.1  22.2275\n",
       "6    d-1-4-3  d-1-4-3.jpg     d     1  1380            27.1  22.2275\n",
       "7    d-1-4-4  d-1-4-4.jpg     d     1  1380            27.1  22.2275\n",
       "8    d-1-5-1  d-1-5-1.jpg     d     1  1460            27.3  26.9468\n",
       "9    d-1-5-2  d-1-5-2.jpg     d     1  1460            27.3  26.9468"
      ]
     },
     "execution_count": 20,
     "metadata": {},
     "output_type": "execute_result"
    }
   ],
   "source": [
    "df.head(10)"
   ]
  },
  {
   "cell_type": "code",
   "execution_count": 21,
   "id": "b3fcb06e",
   "metadata": {},
   "outputs": [],
   "source": [
    "le = LabelEncoder()\n",
    "df['lebel'] = le.fit_transform(df['lebel'])"
   ]
  },
  {
   "cell_type": "code",
   "execution_count": 22,
   "id": "b1e6ab7b",
   "metadata": {},
   "outputs": [
    {
     "data": {
      "text/html": [
       "<div>\n",
       "<style scoped>\n",
       "    .dataframe tbody tr th:only-of-type {\n",
       "        vertical-align: middle;\n",
       "    }\n",
       "\n",
       "    .dataframe tbody tr th {\n",
       "        vertical-align: top;\n",
       "    }\n",
       "\n",
       "    .dataframe thead th {\n",
       "        text-align: right;\n",
       "    }\n",
       "</style>\n",
       "<table border=\"1\" class=\"dataframe\">\n",
       "  <thead>\n",
       "    <tr style=\"text-align: right;\">\n",
       "      <th></th>\n",
       "      <th>panel_name</th>\n",
       "      <th>image_name</th>\n",
       "      <th>lebel</th>\n",
       "      <th>time</th>\n",
       "      <th>LUX</th>\n",
       "      <th>TEMP (Celcius)</th>\n",
       "      <th>power</th>\n",
       "    </tr>\n",
       "  </thead>\n",
       "  <tbody>\n",
       "    <tr>\n",
       "      <th>0</th>\n",
       "      <td>d-1-3-1</td>\n",
       "      <td>d-1-3-1.jpg</td>\n",
       "      <td>1</td>\n",
       "      <td>1</td>\n",
       "      <td>1350</td>\n",
       "      <td>27.0</td>\n",
       "      <td>23.4639</td>\n",
       "    </tr>\n",
       "    <tr>\n",
       "      <th>1</th>\n",
       "      <td>d-1-3-2</td>\n",
       "      <td>d-1-3-2.jpg</td>\n",
       "      <td>1</td>\n",
       "      <td>1</td>\n",
       "      <td>1350</td>\n",
       "      <td>27.0</td>\n",
       "      <td>23.4639</td>\n",
       "    </tr>\n",
       "    <tr>\n",
       "      <th>2</th>\n",
       "      <td>d-1-3-3</td>\n",
       "      <td>d-1-3-3.jpg</td>\n",
       "      <td>1</td>\n",
       "      <td>1</td>\n",
       "      <td>1350</td>\n",
       "      <td>27.0</td>\n",
       "      <td>23.4639</td>\n",
       "    </tr>\n",
       "    <tr>\n",
       "      <th>3</th>\n",
       "      <td>d-1-3-4</td>\n",
       "      <td>d-1-3-4.jpg</td>\n",
       "      <td>1</td>\n",
       "      <td>1</td>\n",
       "      <td>1350</td>\n",
       "      <td>27.0</td>\n",
       "      <td>23.4639</td>\n",
       "    </tr>\n",
       "    <tr>\n",
       "      <th>4</th>\n",
       "      <td>d-1-4-1</td>\n",
       "      <td>d-1-4-1.jpg</td>\n",
       "      <td>1</td>\n",
       "      <td>1</td>\n",
       "      <td>1380</td>\n",
       "      <td>27.1</td>\n",
       "      <td>22.2275</td>\n",
       "    </tr>\n",
       "    <tr>\n",
       "      <th>...</th>\n",
       "      <td>...</td>\n",
       "      <td>...</td>\n",
       "      <td>...</td>\n",
       "      <td>...</td>\n",
       "      <td>...</td>\n",
       "      <td>...</td>\n",
       "      <td>...</td>\n",
       "    </tr>\n",
       "    <tr>\n",
       "      <th>754</th>\n",
       "      <td>w-3-34-4</td>\n",
       "      <td>w-3-34-4.jpg</td>\n",
       "      <td>3</td>\n",
       "      <td>3</td>\n",
       "      <td>2568</td>\n",
       "      <td>27.4</td>\n",
       "      <td>37.9780</td>\n",
       "    </tr>\n",
       "    <tr>\n",
       "      <th>755</th>\n",
       "      <td>w-3-35-1</td>\n",
       "      <td>w-3-35-1.jpg</td>\n",
       "      <td>3</td>\n",
       "      <td>3</td>\n",
       "      <td>2501</td>\n",
       "      <td>27.1</td>\n",
       "      <td>36.0126</td>\n",
       "    </tr>\n",
       "    <tr>\n",
       "      <th>756</th>\n",
       "      <td>w-3-35-2</td>\n",
       "      <td>w-3-35-2.jpg</td>\n",
       "      <td>3</td>\n",
       "      <td>3</td>\n",
       "      <td>2501</td>\n",
       "      <td>27.1</td>\n",
       "      <td>36.0126</td>\n",
       "    </tr>\n",
       "    <tr>\n",
       "      <th>757</th>\n",
       "      <td>w-3-35-3</td>\n",
       "      <td>w-3-35-3.jpg</td>\n",
       "      <td>3</td>\n",
       "      <td>3</td>\n",
       "      <td>2501</td>\n",
       "      <td>27.1</td>\n",
       "      <td>36.0126</td>\n",
       "    </tr>\n",
       "    <tr>\n",
       "      <th>758</th>\n",
       "      <td>w-3-35-4</td>\n",
       "      <td>w-3-35-4.jpg</td>\n",
       "      <td>3</td>\n",
       "      <td>3</td>\n",
       "      <td>2501</td>\n",
       "      <td>27.1</td>\n",
       "      <td>36.0126</td>\n",
       "    </tr>\n",
       "  </tbody>\n",
       "</table>\n",
       "<p>759 rows × 7 columns</p>\n",
       "</div>"
      ],
      "text/plain": [
       "    panel_name    image_name  lebel  time   LUX  TEMP (Celcius)    power\n",
       "0      d-1-3-1   d-1-3-1.jpg      1     1  1350            27.0  23.4639\n",
       "1      d-1-3-2   d-1-3-2.jpg      1     1  1350            27.0  23.4639\n",
       "2      d-1-3-3   d-1-3-3.jpg      1     1  1350            27.0  23.4639\n",
       "3      d-1-3-4   d-1-3-4.jpg      1     1  1350            27.0  23.4639\n",
       "4      d-1-4-1   d-1-4-1.jpg      1     1  1380            27.1  22.2275\n",
       "..         ...           ...    ...   ...   ...             ...      ...\n",
       "754   w-3-34-4  w-3-34-4.jpg      3     3  2568            27.4  37.9780\n",
       "755   w-3-35-1  w-3-35-1.jpg      3     3  2501            27.1  36.0126\n",
       "756   w-3-35-2  w-3-35-2.jpg      3     3  2501            27.1  36.0126\n",
       "757   w-3-35-3  w-3-35-3.jpg      3     3  2501            27.1  36.0126\n",
       "758   w-3-35-4  w-3-35-4.jpg      3     3  2501            27.1  36.0126\n",
       "\n",
       "[759 rows x 7 columns]"
      ]
     },
     "execution_count": 22,
     "metadata": {},
     "output_type": "execute_result"
    }
   ],
   "source": [
    "df"
   ]
  },
  {
   "cell_type": "code",
   "execution_count": 23,
   "id": "6a964f52",
   "metadata": {},
   "outputs": [],
   "source": [
    "X = df[['lebel','time','LUX','TEMP (Celcius)']]\n",
    "y = df['power']"
   ]
  },
  {
   "cell_type": "code",
   "execution_count": 25,
   "id": "ab6f5938",
   "metadata": {},
   "outputs": [],
   "source": [
    "df.to_csv('metadatav1.csv')"
   ]
  },
  {
   "cell_type": "code",
   "execution_count": 24,
   "id": "858ae488",
   "metadata": {},
   "outputs": [],
   "source": [
    "X_train, X_test, y_train, y_test = train_test_split(X, y, test_size=0.2, random_state=42)"
   ]
  },
  {
   "cell_type": "code",
   "execution_count": 75,
   "id": "4520116c",
   "metadata": {},
   "outputs": [],
   "source": [
    "#StandardScaler for normalize"
   ]
  },
  {
   "cell_type": "code",
   "execution_count": 10,
   "id": "47dce066",
   "metadata": {},
   "outputs": [],
   "source": [
    "from sklearn.preprocessing import StandardScaler"
   ]
  },
  {
   "cell_type": "code",
   "execution_count": 11,
   "id": "10bfe8e7",
   "metadata": {},
   "outputs": [],
   "source": [
    "scaler = StandardScaler()\n",
    "X_train = scaler.fit_transform(X_train)\n",
    "X_test = scaler.transform(X_test)"
   ]
  },
  {
   "cell_type": "code",
   "execution_count": 13,
   "id": "caf9df1b",
   "metadata": {},
   "outputs": [],
   "source": [
    "#Linear Regression"
   ]
  },
  {
   "cell_type": "code",
   "execution_count": 14,
   "id": "7a2536de",
   "metadata": {},
   "outputs": [],
   "source": [
    "reg = LinearRegression()"
   ]
  },
  {
   "cell_type": "code",
   "execution_count": 15,
   "id": "0a010bea",
   "metadata": {},
   "outputs": [
    {
     "data": {
      "text/html": [
       "<style>#sk-container-id-1 {color: black;background-color: white;}#sk-container-id-1 pre{padding: 0;}#sk-container-id-1 div.sk-toggleable {background-color: white;}#sk-container-id-1 label.sk-toggleable__label {cursor: pointer;display: block;width: 100%;margin-bottom: 0;padding: 0.3em;box-sizing: border-box;text-align: center;}#sk-container-id-1 label.sk-toggleable__label-arrow:before {content: \"▸\";float: left;margin-right: 0.25em;color: #696969;}#sk-container-id-1 label.sk-toggleable__label-arrow:hover:before {color: black;}#sk-container-id-1 div.sk-estimator:hover label.sk-toggleable__label-arrow:before {color: black;}#sk-container-id-1 div.sk-toggleable__content {max-height: 0;max-width: 0;overflow: hidden;text-align: left;background-color: #f0f8ff;}#sk-container-id-1 div.sk-toggleable__content pre {margin: 0.2em;color: black;border-radius: 0.25em;background-color: #f0f8ff;}#sk-container-id-1 input.sk-toggleable__control:checked~div.sk-toggleable__content {max-height: 200px;max-width: 100%;overflow: auto;}#sk-container-id-1 input.sk-toggleable__control:checked~label.sk-toggleable__label-arrow:before {content: \"▾\";}#sk-container-id-1 div.sk-estimator input.sk-toggleable__control:checked~label.sk-toggleable__label {background-color: #d4ebff;}#sk-container-id-1 div.sk-label input.sk-toggleable__control:checked~label.sk-toggleable__label {background-color: #d4ebff;}#sk-container-id-1 input.sk-hidden--visually {border: 0;clip: rect(1px 1px 1px 1px);clip: rect(1px, 1px, 1px, 1px);height: 1px;margin: -1px;overflow: hidden;padding: 0;position: absolute;width: 1px;}#sk-container-id-1 div.sk-estimator {font-family: monospace;background-color: #f0f8ff;border: 1px dotted black;border-radius: 0.25em;box-sizing: border-box;margin-bottom: 0.5em;}#sk-container-id-1 div.sk-estimator:hover {background-color: #d4ebff;}#sk-container-id-1 div.sk-parallel-item::after {content: \"\";width: 100%;border-bottom: 1px solid gray;flex-grow: 1;}#sk-container-id-1 div.sk-label:hover label.sk-toggleable__label {background-color: #d4ebff;}#sk-container-id-1 div.sk-serial::before {content: \"\";position: absolute;border-left: 1px solid gray;box-sizing: border-box;top: 0;bottom: 0;left: 50%;z-index: 0;}#sk-container-id-1 div.sk-serial {display: flex;flex-direction: column;align-items: center;background-color: white;padding-right: 0.2em;padding-left: 0.2em;position: relative;}#sk-container-id-1 div.sk-item {position: relative;z-index: 1;}#sk-container-id-1 div.sk-parallel {display: flex;align-items: stretch;justify-content: center;background-color: white;position: relative;}#sk-container-id-1 div.sk-item::before, #sk-container-id-1 div.sk-parallel-item::before {content: \"\";position: absolute;border-left: 1px solid gray;box-sizing: border-box;top: 0;bottom: 0;left: 50%;z-index: -1;}#sk-container-id-1 div.sk-parallel-item {display: flex;flex-direction: column;z-index: 1;position: relative;background-color: white;}#sk-container-id-1 div.sk-parallel-item:first-child::after {align-self: flex-end;width: 50%;}#sk-container-id-1 div.sk-parallel-item:last-child::after {align-self: flex-start;width: 50%;}#sk-container-id-1 div.sk-parallel-item:only-child::after {width: 0;}#sk-container-id-1 div.sk-dashed-wrapped {border: 1px dashed gray;margin: 0 0.4em 0.5em 0.4em;box-sizing: border-box;padding-bottom: 0.4em;background-color: white;}#sk-container-id-1 div.sk-label label {font-family: monospace;font-weight: bold;display: inline-block;line-height: 1.2em;}#sk-container-id-1 div.sk-label-container {text-align: center;}#sk-container-id-1 div.sk-container {/* jupyter's `normalize.less` sets `[hidden] { display: none; }` but bootstrap.min.css set `[hidden] { display: none !important; }` so we also need the `!important` here to be able to override the default hidden behavior on the sphinx rendered scikit-learn.org. See: https://github.com/scikit-learn/scikit-learn/issues/21755 */display: inline-block !important;position: relative;}#sk-container-id-1 div.sk-text-repr-fallback {display: none;}</style><div id=\"sk-container-id-1\" class=\"sk-top-container\"><div class=\"sk-text-repr-fallback\"><pre>LinearRegression()</pre><b>In a Jupyter environment, please rerun this cell to show the HTML representation or trust the notebook. <br />On GitHub, the HTML representation is unable to render, please try loading this page with nbviewer.org.</b></div><div class=\"sk-container\" hidden><div class=\"sk-item\"><div class=\"sk-estimator sk-toggleable\"><input class=\"sk-toggleable__control sk-hidden--visually\" id=\"sk-estimator-id-1\" type=\"checkbox\" checked><label for=\"sk-estimator-id-1\" class=\"sk-toggleable__label sk-toggleable__label-arrow\">LinearRegression</label><div class=\"sk-toggleable__content\"><pre>LinearRegression()</pre></div></div></div></div></div>"
      ],
      "text/plain": [
       "LinearRegression()"
      ]
     },
     "execution_count": 15,
     "metadata": {},
     "output_type": "execute_result"
    }
   ],
   "source": [
    "reg.fit(X_train, y_train)"
   ]
  },
  {
   "cell_type": "code",
   "execution_count": 36,
   "id": "f61b6d09",
   "metadata": {},
   "outputs": [],
   "source": [
    "y_pred = reg.predict(X_test)"
   ]
  },
  {
   "cell_type": "code",
   "execution_count": 37,
   "id": "3ad982a8",
   "metadata": {},
   "outputs": [
    {
     "data": {
      "text/plain": [
       "array([27.51927711, 25.75715217, 44.65253649, 26.02005852, 45.21509471,\n",
       "       49.08888168, 31.33343853, 69.46100177, 27.00522189, 17.97839937,\n",
       "       56.09777919, 27.29159112, 68.18524785, 29.62284413, 25.98382756,\n",
       "       25.87801031, 33.24409594, 28.3422481 , 49.64523215, 45.40637416,\n",
       "       30.30205453, 38.86440564, 28.52285215, 49.41507198, 46.93424538,\n",
       "       33.26009538, 17.97839937, 25.43642688, 33.24409594, 33.60627245,\n",
       "       29.28187744, 28.71385632, 40.79743434, 27.8709808 , 65.93108675,\n",
       "       27.48630982, 58.79969264, 18.4062786 , 20.42775366, 13.43957329,\n",
       "       19.93936021, 33.26009538, 32.76494485, 56.09777919, 46.82091262,\n",
       "       45.72092064, 69.7620858 , 50.00536435, 33.95802819, 22.58688656,\n",
       "       27.79297251, 32.42360989, 64.8166639 , 20.42775366, 33.60627245,\n",
       "       54.16143812, 46.3675816 , 28.20867394, 27.79297251, 50.18666401,\n",
       "       32.74046149, 47.51191932, 64.8166639 , 50.45735868, 18.27233617,\n",
       "       28.3422481 , 29.09799985, 27.8709808 , 26.61722531, 38.78169623,\n",
       "       46.3675816 , 30.44738616, 70.98158936, 52.63539628, 28.05587887,\n",
       "       49.41507198, 23.43342455, 30.9157482 , 58.79969264, 45.40637416,\n",
       "       18.57549345, 47.51787702, 56.55111021, 28.3422481 , 30.99380854,\n",
       "       28.43958142, 66.89944143, 31.46410742, 56.09777919, 33.95802819,\n",
       "       28.82006249, 59.56392833, 30.52023611, 33.10300628, 35.16871837,\n",
       "       58.82223917, 48.48392657, 17.38204184, 50.34391228, 55.45803359,\n",
       "       28.19175814, 27.49903571, 27.32455842, 49.41507198, 71.03516633,\n",
       "       29.89054301, 49.60705446, 29.09799985, 39.18896579, 38.86440564,\n",
       "       49.58910618, 28.09958315, 27.48630982, 13.58066296, 27.00522189,\n",
       "       69.86923975, 46.93424538, 28.82006249, 50.18666401, 65.93108675,\n",
       "       37.5011002 , 29.89054301, 28.32362733, 49.51664727, 20.42775366,\n",
       "       40.79743434, 47.51787702, 28.46636991, 49.05059035, 51.28789723,\n",
       "       28.05587887, 69.46100177, 56.09777919, 30.52023611, 19.43588405,\n",
       "       63.501532  , 53.90520326, 54.26811633, 28.43958142, 54.16143812,\n",
       "       14.47423083, 38.86440564, 26.66999303, 39.01167412, 14.1097492 ,\n",
       "       38.86440564, 58.82223917, 29.49409144, 39.01167412, 68.15228055,\n",
       "       66.2687799 , 66.89944143])"
      ]
     },
     "execution_count": 37,
     "metadata": {},
     "output_type": "execute_result"
    }
   ],
   "source": [
    "y_pred"
   ]
  },
  {
   "cell_type": "code",
   "execution_count": 40,
   "id": "b4c9382d",
   "metadata": {},
   "outputs": [
    {
     "name": "stdout",
     "output_type": "stream",
     "text": [
      "Mean squared error: 241.31560065126695\n",
      "R-squared: 0.40825732514847135\n"
     ]
    }
   ],
   "source": [
    "from sklearn.metrics import mean_squared_error, r2_score\n",
    "print(\"Mean squared error:\", mean_squared_error(y_test, y_pred))\n",
    "print(\"R-squared:\", r2_score(y_test, y_pred))"
   ]
  },
  {
   "cell_type": "code",
   "execution_count": 41,
   "id": "a3e31fc4",
   "metadata": {},
   "outputs": [],
   "source": [
    "#RandomForest"
   ]
  },
  {
   "cell_type": "code",
   "execution_count": 12,
   "id": "100c064b",
   "metadata": {},
   "outputs": [],
   "source": [
    "from sklearn.ensemble import RandomForestRegressor"
   ]
  },
  {
   "cell_type": "code",
   "execution_count": 13,
   "id": "eecf2fad",
   "metadata": {},
   "outputs": [],
   "source": [
    "rfr = RandomForestRegressor(n_estimators=100)\n",
    "rfr.fit(X_train, y_train)\n",
    "y_pred = rfr.predict(X_test)"
   ]
  },
  {
   "cell_type": "code",
   "execution_count": 15,
   "id": "9633d784",
   "metadata": {},
   "outputs": [
    {
     "name": "stdout",
     "output_type": "stream",
     "text": [
      "Mean squared error: 0.6746369305192538\n",
      "R-squared: 0.9978132374221422\n"
     ]
    }
   ],
   "source": [
    "from sklearn.metrics import mean_squared_error, r2_score\n",
    "print(\"Mean squared error:\", mean_squared_error(y_test, y_pred))\n",
    "print(\"R-squared:\", r2_score(y_test, y_pred))"
   ]
  },
  {
   "cell_type": "code",
   "execution_count": 140,
   "id": "c750791a",
   "metadata": {},
   "outputs": [],
   "source": [
    "from sklearn import externals\n",
    "import joblib\n",
    "from sklearn.ensemble import RandomForestRegressor"
   ]
  },
  {
   "cell_type": "code",
   "execution_count": 141,
   "id": "f3d2412d",
   "metadata": {},
   "outputs": [],
   "source": [
    "import pickle\n",
    "\n",
    "with open(\"./rf_model.pkl\", \"wb\") as file:\n",
    "    pickle.dump(rfr, file)\n"
   ]
  },
  {
   "cell_type": "code",
   "execution_count": 142,
   "id": "90832d62",
   "metadata": {},
   "outputs": [],
   "source": [
    "with open(\"rf_model.pkl\", \"rb\") as file:\n",
    "    rf_model = pickle.load(file)"
   ]
  },
  {
   "cell_type": "code",
   "execution_count": 143,
   "id": "6c5f17c4",
   "metadata": {},
   "outputs": [],
   "source": [
    "filename = 'RandomForestRegressor_model.joblib'\n",
    "joblib.dump(rfr, filename)\n",
    "\n",
    "# load the model from disk\n",
    "loaded_model = joblib.load(filename)"
   ]
  },
  {
   "cell_type": "code",
   "execution_count": 145,
   "id": "cb5afadd",
   "metadata": {},
   "outputs": [
    {
     "name": "stdout",
     "output_type": "stream",
     "text": [
      "Enter lebel: 4\n",
      "Enter time: 3\n",
      "Enter LUX: 2000\n",
      "Enter TEMP: 23\n",
      "Predicted power: [80.616353]\n"
     ]
    }
   ],
   "source": [
    "loaded_model = joblib.load(filename)\n",
    "\n",
    "lebel = input(\"Enter lebel: \")\n",
    "time = input(\"Enter time: \")\n",
    "LUX = input(\"Enter LUX: \")\n",
    "TEMP = input(\"Enter TEMP: \")\n",
    "\n",
    "user_input = [[lebel, time, LUX, TEMP]]\n",
    "\n",
    "power_prediction = loaded_model.predict(user_input)\n",
    "\n",
    "print(\"Predicted power:\", power_prediction)"
   ]
  },
  {
   "cell_type": "code",
   "execution_count": 22,
   "id": "6498ea0c",
   "metadata": {},
   "outputs": [],
   "source": [
    "#xgboost"
   ]
  },
  {
   "cell_type": "code",
   "execution_count": 23,
   "id": "5861c7f6",
   "metadata": {},
   "outputs": [],
   "source": [
    "from xgboost import XGBRegressor"
   ]
  },
  {
   "cell_type": "code",
   "execution_count": 24,
   "id": "5ba089b8",
   "metadata": {},
   "outputs": [],
   "source": [
    "xgb = XGBRegressor()\n",
    "xgb.fit(X_train, y_train)\n",
    "y_pred = xgb.predict(X_test)"
   ]
  },
  {
   "cell_type": "code",
   "execution_count": 25,
   "id": "5c300f1f",
   "metadata": {},
   "outputs": [
    {
     "name": "stdout",
     "output_type": "stream",
     "text": [
      "Mean squared error: 1.9405125826280045\n",
      "R-squared: 0.9952415670469363\n"
     ]
    }
   ],
   "source": [
    "from sklearn.metrics import mean_squared_error, r2_score\n",
    "print(\"Mean squared error:\", mean_squared_error(y_test, y_pred))\n",
    "print(\"R-squared:\", r2_score(y_test, y_pred))"
   ]
  },
  {
   "cell_type": "code",
   "execution_count": 26,
   "id": "c4b43eca",
   "metadata": {},
   "outputs": [],
   "source": [
    "#SVM"
   ]
  },
  {
   "cell_type": "code",
   "execution_count": 27,
   "id": "eabbdbd8",
   "metadata": {},
   "outputs": [],
   "source": [
    "from sklearn.svm import SVR"
   ]
  },
  {
   "cell_type": "code",
   "execution_count": 28,
   "id": "0a49a0c4",
   "metadata": {},
   "outputs": [],
   "source": [
    "svr = SVR(kernel='linear')\n",
    "svr.fit(X_train, y_train)\n",
    "y_pred = svr.predict(X_test)"
   ]
  },
  {
   "cell_type": "code",
   "execution_count": 29,
   "id": "acf1d999",
   "metadata": {},
   "outputs": [
    {
     "name": "stdout",
     "output_type": "stream",
     "text": [
      "Mean squared error: 288.2656927878184\n",
      "R-squared: 0.2931285351720706\n"
     ]
    }
   ],
   "source": [
    "from sklearn.metrics import mean_squared_error, r2_score\n",
    "print(\"Mean squared error:\", mean_squared_error(y_test, y_pred))\n",
    "print(\"R-squared:\", r2_score(y_test, y_pred))"
   ]
  },
  {
   "cell_type": "code",
   "execution_count": null,
   "id": "d4dbdfea",
   "metadata": {},
   "outputs": [],
   "source": []
  },
  {
   "cell_type": "code",
   "execution_count": null,
   "id": "4c5409af",
   "metadata": {},
   "outputs": [],
   "source": []
  },
  {
   "cell_type": "code",
   "execution_count": null,
   "id": "79e2cf66",
   "metadata": {},
   "outputs": [],
   "source": []
  }
 ],
 "metadata": {
  "kernelspec": {
   "display_name": "Python 3 (ipykernel)",
   "language": "python",
   "name": "python3"
  },
  "language_info": {
   "codemirror_mode": {
    "name": "ipython",
    "version": 3
   },
   "file_extension": ".py",
   "mimetype": "text/x-python",
   "name": "python",
   "nbconvert_exporter": "python",
   "pygments_lexer": "ipython3",
   "version": "3.10.7"
  }
 },
 "nbformat": 4,
 "nbformat_minor": 5
}
